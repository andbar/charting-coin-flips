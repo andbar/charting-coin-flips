{
 "cells": [
  {
   "cell_type": "code",
   "execution_count": 11,
   "metadata": {
    "collapsed": true
   },
   "outputs": [],
   "source": [
    "import random\n",
    "import math\n",
    "import statistics\n",
    "import matplotlib.pyplot as plt"
   ]
  },
  {
   "cell_type": "code",
   "execution_count": 32,
   "metadata": {
    "collapsed": true
   },
   "outputs": [],
   "source": [
    "#heads is 1\n",
    "#tails is 0\n",
    "\n",
    "def coin_flipper():\n",
    "    return random.randint(0, 1)\n",
    "\n",
    "def flipper_count(n=(2**16)):\n",
    "    heads = 0\n",
    "    tails = 0\n",
    "    for _ in range(n):\n",
    "        if coin_flipper() == 1:\n",
    "            heads += 1\n",
    "        else:\n",
    "            tails += 1\n",
    "    return (heads, tails)\n",
    "    \n",
    "def flipper_intervals():\n",
    "    return [flipper_count(2**x) for x in [0, 1, 2, 4, 8, 16]]\n",
    "    \n"
   ]
  },
  {
   "cell_type": "code",
   "execution_count": 21,
   "metadata": {
    "collapsed": true
   },
   "outputs": [],
   "source": [
    "%matplotlib inline"
   ]
  },
  {
   "cell_type": "code",
   "execution_count": 36,
   "metadata": {
    "collapsed": false
   },
   "outputs": [],
   "source": [
    "y = flipper_intervals()"
   ]
  },
  {
   "cell_type": "code",
   "execution_count": 37,
   "metadata": {
    "collapsed": false
   },
   "outputs": [
    {
     "name": "stdout",
     "output_type": "stream",
     "text": [
      "[(0, 1), (1, 1), (0, 4), (7, 9), (127, 129), (32893, 32643)]\n"
     ]
    }
   ],
   "source": [
    "print(y)"
   ]
  },
  {
   "cell_type": "code",
   "execution_count": 46,
   "metadata": {
    "collapsed": true
   },
   "outputs": [],
   "source": [
    "def heads_tails_diff(flips):\n",
    "    return [h - t for h, t in flips]\n",
    "\n",
    "def heads_tails_ratio(flips):\n",
    "    return [h/t for h, t in flips]"
   ]
  },
  {
   "cell_type": "code",
   "execution_count": 47,
   "metadata": {
    "collapsed": false
   },
   "outputs": [],
   "source": [
    "diffs = heads_tails_diff(y)\n",
    "ratio = heads_tails_ratio(y)"
   ]
  },
  {
   "cell_type": "code",
   "execution_count": 50,
   "metadata": {
    "collapsed": false
   },
   "outputs": [
    {
     "data": {
      "text/plain": [
       "<matplotlib.text.Text at 0x111eb0d68>"
      ]
     },
     "execution_count": 50,
     "metadata": {},
     "output_type": "execute_result"
    },
    {
     "data": {
      "image/png": "[encoded data removed]",
      "text/plain": [
       "<matplotlib.figure.Figure at 0x111d8a7b8>"
      ]
     },
     "metadata": {},
     "output_type": "display_data"
    }
   ],
   "source": [
    "x1 = [\"2^0\", \"2^1\", \"2^2\", \"2^4\", \"2^8\", \"2^16\"]\n",
    "plt.plot(diffs)\n",
    "plt.xticks([0, 1, 2, 3, 4, 5], x1)\n",
    "plt.ylabel(\"Heads/Tails Difference\")\n",
    "plt.xlabel(\"Number of flips\")\n",
    "plt.title(\"Coin Flip Differences\")"
   ]
  },
  {
   "cell_type": "code",
   "execution_count": 48,
   "metadata": {
    "collapsed": false
   },
   "outputs": [
    {
     "data": {
      "text/plain": [
       "<matplotlib.text.Text at 0x111cde390>"
      ]
     },
     "execution_count": 48,
     "metadata": {},
     "output_type": "execute_result"
    },
    {
     "data": {
      "image/png": "[encoded data removed]",
      "text/plain": [
       "<matplotlib.figure.Figure at 0x111c17320>"
      ]
     },
     "metadata": {},
     "output_type": "display_data"
    }
   ],
   "source": [
    "x1 = [\"2^0\", \"2^1\", \"2^2\", \"2^4\", \"2^8\", \"2^16\"]\n",
    "plt.plot(ratio)\n",
    "plt.xticks([0, 1, 2, 3, 4, 5], x1)\n",
    "plt.ylabel(\"Heads/Tails Ratio\")\n",
    "plt.xlabel(\"Number of flips\")\n",
    "plt.title(\"Coin Flip Ratio\")"
   ]
  },
  {
   "cell_type": "code",
   "execution_count": null,
   "metadata": {
    "collapsed": true
   },
   "outputs": [],
   "source": []
  }
 ],
 "metadata": {
  "kernelspec": {
   "display_name": "Python 3",
   "language": "python",
   "name": "python3"
  },
  "language_info": {
   "codemirror_mode": {
    "name": "ipython",
    "version": 3
   },
   "file_extension": ".py",
   "mimetype": "text/x-python",
   "name": "python",
   "nbconvert_exporter": "python",
   "pygments_lexer": "ipython3",
   "version": "3.5.0"
  }
 },
 "nbformat": 4,
 "nbformat_minor": 0
}
